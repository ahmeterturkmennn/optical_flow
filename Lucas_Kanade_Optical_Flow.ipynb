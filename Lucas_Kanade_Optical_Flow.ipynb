{
 "cells": [
  {
   "cell_type": "markdown",
   "id": "acd32ab4",
   "metadata": {},
   "source": [
    "## Lucas Kanade Optical Flow Algoritması"
   ]
  },
  {
   "cell_type": "code",
   "execution_count": null,
   "id": "aab61dcb",
   "metadata": {},
   "outputs": [],
   "source": [
    "import cv2\n",
    "import numpy as np\n",
    "def draw_tracks_on_frame(frame, p0, p1, st):\n",
    "    output = frame.copy()\n",
    "    good_new = p1[st == 1]\n",
    "    good_old = p0[st == 1]\n",
    "\n",
    "    for new, old in zip(good_new, good_old):\n",
    "        a, b = new.ravel()\n",
    "        c, d = old.ravel()\n",
    "\n",
    "        vec_x = a - c\n",
    "        vec_y = b - d\n",
    "\n",
    "        scale = 7.0\n",
    "        end_point = (int(c + vec_x * scale), int(d + vec_y * scale))\n",
    "        start_point = (int(c), int(d))\n",
    "\n",
    "        output = cv2.arrowedLine(output, start_point, end_point,\n",
    "                                 color=(0, 0, 255), thickness=1, tipLength=0.02)\n",
    "        output = cv2.circle(output, end_point, 1, (0, 0, 0), -1)\n",
    "    return output\n",
    "\n",
    "def process_video(video_path, output_path):\n",
    "    cap = cv2.VideoCapture(video_path)\n",
    "\n",
    "    width  = int(cap.get(cv2.CAP_PROP_FRAME_WIDTH))\n",
    "    height = int(cap.get(cv2.CAP_PROP_FRAME_HEIGHT))\n",
    "    input_fps = cap.get(cv2.CAP_PROP_FPS)\n",
    "    slowdown_factor = 1  \n",
    "    fps = input_fps / slowdown_factor\n",
    "\n",
    "    fourcc = cv2.VideoWriter_fourcc(*'mp4v')  # or 'XVID'\n",
    "    out = cv2.VideoWriter(output_path, fourcc, fps, (width, height))\n",
    "\n",
    "    ret, old_frame = cap.read()\n",
    "    old_gray = cv2.cvtColor(old_frame, cv2.COLOR_BGR2GRAY)\n",
    "\n",
    "    p0 = cv2.goodFeaturesToTrack(old_gray, maxCorners=200, qualityLevel=0.01, minDistance=7, blockSize=7)\n",
    "\n",
    "    while True:\n",
    "        ret, frame = cap.read()\n",
    "        if not ret:\n",
    "            break\n",
    "        frame_gray = cv2.cvtColor(frame, cv2.COLOR_BGR2GRAY)\n",
    "\n",
    "        p1, st, err = cv2.calcOpticalFlowPyrLK(old_gray, frame_gray, p0, None,\n",
    "                                               winSize=(15, 15), maxLevel=2,\n",
    "                                               criteria=(cv2.TERM_CRITERIA_EPS | cv2.TERM_CRITERIA_COUNT, 10, 0.03))\n",
    "\n",
    "        if p1 is None:\n",
    "            break\n",
    "\n",
    "        tracked_frame = draw_tracks_on_frame(frame, p0, p1, st)\n",
    "        out.write(tracked_frame)\n",
    "\n",
    "        old_gray = frame_gray.copy()\n",
    "        p0 = p1[st == 1].reshape(-1, 1, 2)\n",
    "\n",
    "    cap.release()\n",
    "    out.release()\n",
    "video_path = \"C:/Users/90551/Desktop/EE584/Term Project/kanade_deneyler/ball_original.mp4\"\n",
    "output_path = \"C:/Users/90551/Desktop/EE584/Term Project/kanade_deneyler/flow_output_original.mp4\"\n",
    "process_video(video_path, output_path)\n"
   ]
  },
  {
   "cell_type": "markdown",
   "id": "6d3e3dc7",
   "metadata": {},
   "source": [
    "## Video blurlamak için"
   ]
  },
  {
   "cell_type": "code",
   "execution_count": null,
   "id": "5a97dfac",
   "metadata": {},
   "outputs": [],
   "source": [
    "import cv2\n",
    "import os\n",
    "\n",
    "in_path  = r\"C:/Users/90551/Desktop/EE584/Term Project/kanade_deneyler/ball_original.mp4\"\n",
    "sigma    = 37\n",
    "out_path = r\"C:/Users/90551/Desktop/EE584/Term Project/kanade_deneyler/video_blurred_\"+str(sigma)+\".mp4\"\n",
    "ksize = max(3, int(6 * sigma + 1))\n",
    "if ksize % 2 == 0:          \n",
    "    ksize += 1\n",
    "\n",
    "os.makedirs(os.path.dirname(out_path), exist_ok=True)\n",
    "\n",
    "cap = cv2.VideoCapture(in_path)\n",
    "fourcc = cv2.VideoWriter_fourcc(*\"mp4v\")            \n",
    "fps    = cap.get(cv2.CAP_PROP_FPS)\n",
    "w      = int(cap.get(cv2.CAP_PROP_FRAME_WIDTH))\n",
    "h      = int(cap.get(cv2.CAP_PROP_FRAME_HEIGHT))\n",
    "writer = cv2.VideoWriter(out_path, fourcc, fps, (w, h))\n",
    "\n",
    "try:\n",
    "    while True:\n",
    "        ret, frame = cap.read()\n",
    "        if not ret:\n",
    "            break\n",
    "        blurred = cv2.GaussianBlur(frame, (ksize, ksize), sigmaX=sigma, sigmaY=sigma)\n",
    "        writer.write(blurred)\n",
    "finally:\n",
    "    cap.release()\n",
    "    writer.release()\n",
    "\n"
   ]
  },
  {
   "cell_type": "code",
   "execution_count": null,
   "id": "af8c3d44",
   "metadata": {},
   "outputs": [],
   "source": []
  },
  {
   "cell_type": "code",
   "execution_count": null,
   "id": "25a2e122",
   "metadata": {},
   "outputs": [],
   "source": []
  }
 ],
 "metadata": {
  "kernelspec": {
   "display_name": "Python 3 (ipykernel)",
   "language": "python",
   "name": "python3"
  },
  "language_info": {
   "codemirror_mode": {
    "name": "ipython",
    "version": 3
   },
   "file_extension": ".py",
   "mimetype": "text/x-python",
   "name": "python",
   "nbconvert_exporter": "python",
   "pygments_lexer": "ipython3",
   "version": "3.9.0"
  }
 },
 "nbformat": 4,
 "nbformat_minor": 5
}
